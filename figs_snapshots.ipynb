{
 "cells": [
  {
   "cell_type": "code",
   "execution_count": 1,
   "metadata": {},
   "outputs": [],
   "source": [
    "from modules import *\n",
    "from functions import *"
   ]
  },
  {
   "cell_type": "code",
   "execution_count": 10,
   "metadata": {},
   "outputs": [
    {
     "name": "stderr",
     "output_type": "stream",
     "text": [
      "100%|██████████| 840/840 [00:21<00:00, 39.58it/s]\n"
     ]
    }
   ],
   "source": [
    "# Parameters\n",
    "\n",
    "N = int(500)                                                        # Number of neurons\n",
    "a = 10                                                                # Parameters for propensity function\n",
    "theta_stim = 90                                                     # Angle to stimulate at \n",
    "n_test_angles = 100                                                 # Number of angles to use to test for preferred orientation\n",
    "vars = np.random.lognormal(2, 0.6, N)                               # Width of each neuron's tuning curve\n",
    "learning_rate = 0.01                                                # Learning rate\n",
    "\n",
    "n_days = 28                                                         # Number of days to run for\n",
    "n_norm_per_day = 1                                                  # How many times to normalise the weights per day\n",
    "n_steps_per_norm = 30                                               # How many orientation stimuli per day                    *** Increase this (and decrease learning rate respectively) to simulate more visual experience per day. Note: will take longer to run ***\n",
    "n_steps = n_steps_per_norm * n_norm_per_day * n_days                # Number of steps to run for\n",
    "init_steps = 300                                                    # Number of trials to run to settle to a baseline\n",
    "\n",
    "hebb_scaling = 0.3                                                  # Scaling of Hebbian component\n",
    "rand_scaling = 1                                                    # Scaling of random component \n",
    "\n",
    "# Initialisation\n",
    "\n",
    "W_init = initialise_W(N, vars)                                                                                                      # Initialise weights \n",
    "W_baseline = prerun(W_init, theta_stim, a, hebb_scaling, rand_scaling, learning_rate, n_steps_per_norm, init_steps)                 # Settle to a baseline\n",
    "\n",
    "POs = []; ratios = []\n",
    "W = np.zeros((N, N, n_steps+1), dtype=np.float32)                                                                                   # Initialise weight matrix\n",
    "W[:, :, 0] = W_baseline\n",
    "W_per_day = np.zeros((N, N, n_days))\n",
    "\n",
    "# Run trials\n",
    "\n",
    "for t in tqdm(range(n_steps)):\n",
    "    W_old = W[:, :, t]\n",
    "    H = single_hebbian_component(N, W_old, theta_stim, type='stripe_rearing')                    # Hebbian component - outer product of pre- and post-synaptic activity      *** Change type from 'baseline' to 'stripe_rearing' to switch between conditions ***\n",
    "    eta = np.random.randn(N, N)                                                                  # Random component - sample from normal distribution\n",
    "    prop_function = propensity(W_old, a)                                                         # Propensity function - tanh(w)\n",
    "    hebb =  hebb_scaling * H                                                                     # Scaled Hebbian component \n",
    "    rand =  rand_scaling * eta                                                                   # Scaled random component\n",
    "    W_new = W_old + learning_rate * prop_function * (hebb + rand)                                # Update weights\n",
    "\n",
    "    if t % n_steps_per_norm == 0:                                                                # Perform normalisation after every N_theta steps \n",
    "        normalisation(W_new)\n",
    "        if t % (n_steps_per_norm * n_norm_per_day) == 0:                                         # Save weights and preferred orientations every day \n",
    "            W_per_day[:, :, t // (n_steps_per_norm * n_norm_per_day)] = W_new                    \n",
    "            PO = get_preferred_orientations(N, W_new, n_angles=n_test_angles); POs.append(PO)    \n",
    "            ratios.append(np.mean(abs(hebb)) / (np.mean(abs(rand)) + 10e-10))\n",
    "\n",
    "    W[:, :, t+1] = W_new\n",
    "\n",
    "preferences = np.array(POs).T \n",
    "initial_preferences = np.linspace(0, 180, N) \n",
    "final_preferences = preferences[:, -1]\n",
    "absolute_change = np.array([circular_distance(preferences[:, day], initial_preferences) for day in range(n_days)])\n",
    "median_change_per_day = np.median(absolute_change, axis=1)   \n",
    "std_change_per_day = np.std(absolute_change, axis=1)  "
   ]
  },
  {
   "cell_type": "markdown",
   "metadata": {},
   "source": [
    "## Fig. 3c"
   ]
  },
  {
   "cell_type": "code",
   "execution_count": 11,
   "metadata": {},
   "outputs": [],
   "source": [
    "def fig_3c(preferences, final_day=20):\n",
    "    \"\"\" run with data from baseline conditions \"\"\"\n",
    "    fig, ax = plt.subplots(figsize=(2.5, 2.5), dpi=180)\n",
    "    ax.scatter(preferences[:, 0], preferences[:, final_day], s=20, alpha=0.4, fc='k', ec='None')\n",
    "    ax.set_ylabel(r'PO day n + 20  $[\\degree]$')\n",
    "    ax.set_xlabel(r'PO day n  $[\\degree]$')\n",
    "    ax.set_xticks([0, 90, 180]); ax.set_yticks([0, 90, 180])\n",
    "    ax.set_xticklabels(['-90', '0', '90']); ax.set_yticklabels(['-90', '0', '90'])\n",
    "    ax.set_aspect('equal')\n",
    "    fig.show()"
   ]
  },
  {
   "cell_type": "markdown",
   "metadata": {},
   "source": [
    "## Fig. 3g"
   ]
  },
  {
   "cell_type": "code",
   "execution_count": 13,
   "metadata": {},
   "outputs": [],
   "source": [
    "initial_distances = np.abs(initial_preferences - theta_stim)\n",
    "final_distances = np.abs(final_preferences - theta_stim)\n",
    "change = initial_distances - final_distances\n",
    "total_drift = circular_distance(initial_preferences, final_preferences)\n",
    "\n",
    "def fig_3g(initial_distances, total_drift):\n",
    "    \"\"\" run with data from deprivation conditions \"\"\"\n",
    "    fig, ax = plt.subplots(figsize=(2.5, 2.5), dpi=180)\n",
    "    ax.scatter(initial_distances, total_drift, s=20, color='k', ec='None', clip_on=False, alpha=0.4)\n",
    "    ax.set_yticks(np.arange(0, 91, 30)); ax.set_xticks(np.arange(0, 91, 30))\n",
    "    ax.set_xlim(0, 90); ax.set_ylim(0, 90)\n",
    "    ax.set_xlabel(r'initial |relative PO|  $[\\degree]$')\n",
    "    ax.set_ylabel(r'drift magnitude  $[\\degree]$')\n",
    "    fig.show()"
   ]
  },
  {
   "cell_type": "markdown",
   "metadata": {},
   "source": [
    "## Supp. Fig. 3g"
   ]
  },
  {
   "cell_type": "code",
   "execution_count": 31,
   "metadata": {},
   "outputs": [],
   "source": [
    "def supp_fig_3g(initial_distances, change):\n",
    "    \"\"\" run with data from deprivation conditions \"\"\"\n",
    "\n",
    "    fig = plt.figure(figsize=(3.2, 2.5), dpi=180)\n",
    "\n",
    "    gs = fig.add_gridspec(1, 2,  width_ratios=(4, 1),  left=0.1, right=0.9, bottom=0.1, top=0.9, wspace=0.2, hspace=0.05)\n",
    "    ax = fig.add_subplot(gs[0])\n",
    "    ax_hist = fig.add_subplot(gs[1], sharey=ax)\n",
    "\n",
    "    ax.fill_between(np.arange(0, 91, 1), np.arange(0, 91, 1), 90, color='lightgray', alpha=0.5) \n",
    "    ax.fill_between(np.arange(0, 90, 1), np.arange(-90, 0, 1), -90, color='lightgray', alpha=0.5)\n",
    "    ax.axhline(0, ls='--', color='k')\n",
    "    ax_hist.axhline(0, ls='--', color='k')\n",
    "\n",
    "    ax.scatter(initial_distances, change, s=20, color='k', ec='None', clip_on=False, alpha=0.4)\n",
    "    ax_hist.hist(change, bins=17, orientation=\"horizontal\", histtype=\"stepfilled\", alpha=0.4, ec='k', fc='k')\n",
    "\n",
    "    xlim = ax_hist.get_xlim()[1]\n",
    "    ax_hist.set_xticks([0, xlim])\n",
    "    ax_hist.set_xticklabels([0, np.round(xlim / N, 1)])\n",
    "    ax_hist.set_xlabel('Fraction')\n",
    "    ax_hist.tick_params(axis=\"y\", labelleft=False)\n",
    "\n",
    "    ax.set_yticks(np.arange(-90, 91, 30)); ax.set_xticks(np.arange(0, 91, 30))\n",
    "    ax.set_xlim(0, 90); ax.set_ylim(-90, 90); ax.set_yticks(np.arange(-90, 91, 90))\n",
    "    ax.set_xlabel(r'initial |relative PO|  $[\\degree]$')\n",
    "    ax.set_ylabel(r'convergence \\; $[\\degree]$')\n",
    "    fig.show()"
   ]
  },
  {
   "cell_type": "markdown",
   "metadata": {},
   "source": [
    "## Supp. Fig. 3f"
   ]
  },
  {
   "cell_type": "code",
   "execution_count": 32,
   "metadata": {},
   "outputs": [],
   "source": [
    "drift_rates = np.mean(np.array([circular_distance(preferences[:, x+1], preferences[:, x]) for x in range(n_days-1)]), axis=0)\n",
    "\n",
    "def supp_fig_3f(initial_distances, drift_rates):\n",
    "    \"\"\" run with data from deprivation conditions \"\"\"\n",
    "\n",
    "    fig, ax = plt.subplots(figsize=(2.3, 2.3), dpi=180)\n",
    "    ax.scatter(initial_distances, drift_rates, s=20, color='k', ec='None', clip_on=False, alpha=0.4)\n",
    "    ax.set_yticks(np.arange(0, 91, 10))\n",
    "    ax.set_xticks(np.arange(0, 91, 30))\n",
    "    ax.set_xlim(0, 90); ax.set_ylim(0, 30)\n",
    "    ax.set_xlabel(r'initial |relative PO|  $[\\degree]$')\n",
    "    ax.set_ylabel(r'drift rate  $[\\degree / day]$')\n",
    "    fig.show()"
   ]
  },
  {
   "cell_type": "markdown",
   "metadata": {},
   "source": [
    "## Supp. Fig. 3d"
   ]
  },
  {
   "cell_type": "code",
   "execution_count": 35,
   "metadata": {},
   "outputs": [],
   "source": [
    "def supp_fig_3d(vars, drift_rates):\n",
    "    \"\"\" run with data from baseline condition \"\"\"\n",
    "\n",
    "    fig, ax = plt.subplots(figsize=(2.3, 2.3), dpi=180)\n",
    "    ax.scatter(vars, drift_rates, s=15, color='k', ec='None', clip_on=False, alpha=0.5)\n",
    "    ax.set_xscale('log'); ax.set_yscale('log')\n",
    "    ax.set_xlabel(r'tuning curve width  $ \\; [\\degree]$')\n",
    "    ax.set_ylabel(r'drift rate $ \\; [\\degree]$')\n",
    "    fig.show()"
   ]
  },
  {
   "cell_type": "markdown",
   "metadata": {},
   "source": [
    "## Supp. Fig. 3e"
   ]
  },
  {
   "cell_type": "code",
   "execution_count": 36,
   "metadata": {},
   "outputs": [],
   "source": [
    "def supp_fig_3e(absolute_change):\n",
    "    \"\"\" run with data from baseline condition \"\"\"\n",
    "\n",
    "    fig, ax = plt.subplots(figsize=(2.3, 2.1), dpi=180)\n",
    "\n",
    "    cmap = plt.get_cmap('viridis')\n",
    "    colors = [cmap(i) for i in np.linspace(0, 1, n_days)]\n",
    "\n",
    "    for i in range(0, n_days-1, 1):\n",
    "        count, bins_count = np.histogram(absolute_change[i], bins=100)\n",
    "        pdf = count / sum(count); cdf = np.cumsum(pdf)\n",
    "        ax.plot(bins_count[1:], cdf, c=colors[i], label='Day {}'.format(i+1), clip_on=False)\n",
    "\n",
    "    sm = plt.cm.ScalarMappable(cmap=cmap, norm=plt.Normalize(vmin=0, vmax=n_days))\n",
    "    cbar = plt.colorbar(sm, ax=ax, ticks=np.arange(0, n_days+5, 5))\n",
    "    cbar.ax.set_yticklabels(np.arange(0, n_days+5, 5))\n",
    "    cbar.set_label('Days', rotation=270, labelpad=20, fontsize=12)\n",
    "    ax.set_xlim([0, 80]); ax.set_xticks(np.arange(0, 81, 20))\n",
    "    ax.set_ylim([0, 1]); ax.set_yticks(np.arange(0, 1.1, 0.5))\n",
    "\n",
    "    ax.set_xlabel(r'drift magnitude  $[\\degree]$')\n",
    "    ax.set_ylabel('cumulative prob.')\n",
    "    fig.show()"
   ]
  },
  {
   "cell_type": "markdown",
   "metadata": {},
   "source": [
    "## Fig. 3i"
   ]
  },
  {
   "cell_type": "code",
   "execution_count": 47,
   "metadata": {},
   "outputs": [],
   "source": [
    "PO = preferences\n",
    "PO[:, 0] = np.linspace(0, 180, N)\n",
    "dPO = []                                          # Change in preference at each time step \n",
    "rPO = []                                          # Relative preference at each time step\n",
    "dPO_ShM = []                                      # Shuffled magnitude\n",
    "dPO_ShD = []                                      # Shuffled direction\n",
    "\n",
    "for i in range(n_days): \n",
    "    dPO.append(directional_circular_distance(PO[:,i], PO[:,0]))\n",
    "    rPO.append(PO[:,i] - theta_stim)\n",
    "    dPO_ShM.append(np.random.permutation(np.abs(dPO[i])) * (np.sign(dPO[i])+(dPO[i]==0)))   # Permute the value, keep the sign \n",
    "    dPO_ShD.append(np.random.permutation(np.sign(dPO[i])+(dPO[i]==0)) * np.abs(dPO[i]))     # Permute the sign, keep the value\n",
    "    sorted_dPO = np.sort(np.abs(dPO[i]))\n",
    "    order_start_rPO = np.argsort(np.abs(rPO[0]))\n",
    "\n",
    "dPO, rPO, dPO_ShM, dPO_ShD = convert_to_array(dPO, rPO, dPO_ShM, dPO_ShD)\n",
    "\n",
    "# Final preferences after shuffling \n",
    "PO_ShM = (PO[:,0]+dPO_ShM)  \n",
    "PO_ShD = (PO[:,0]+dPO_ShD)\n",
    "\n",
    "PO_ShM, PO_ShD = convert_to_array(PO_ShM, PO_ShD)\n",
    "rPO_ShM, rPO_ShD = [directional_circular_distance(x, theta_stim) for x in (PO_ShM, PO_ShD)]   # Relative distances after shuffling\n",
    "drPO, drPO_ShM, drPO_ShD = [np.abs(rPO[0]) - np.abs(x) for x in (rPO, rPO_ShM, rPO_ShD)]      # Change in relative distance after shuffling\n",
    "\n",
    "\n",
    "data_means = [2.9706, 0.2923,\t2.3746]              # Values of experimental data (Fig. 2g and 2i)\n",
    "data_lower_bound = [0.5411,\t1.3523, 0.7938]\n",
    "data_upper_bound = [1.1688, 0.951, \t0.914]\n",
    "\n",
    "\n",
    "def fig_3i(drPO, drPO_ShM, drPO_ShD, data_means, data_lower_bound, data_upper_bound):\n",
    "    \"\"\" run with data from deprivation conditions \"\"\"\n",
    "\n",
    "    fig, ax = plt.subplots(1, 1, figsize=(1.4, 2.3), dpi=180)\n",
    "    ax.scatter([0, 1, 2], data_means, c='darkgrey', alpha=1, zorder=3)\n",
    "    ax.errorbar([0, 1, 2], data_means, yerr=[data_lower_bound, data_upper_bound], fmt='o', c='darkgrey', alpha=1, capsize=3)\n",
    "    ax.scatter([0.2, 1.2, 2.2], [np.median(drPO[-1]), np.median(drPO_ShD[-1]), np.median(drPO_ShM[-1])],  c='green', zorder=3)\n",
    "    ax.set_xticks([0, 1, 2], ['model', 'shuf dir.', 'shuf mag.'], rotation=30);\n",
    "    ax.set_ylabel(r'convergence  $[\\degree]$')\n",
    "    ax.axhline(0, c='k', ls='--', alpha=0.3, lw=2)\n",
    "    ax.set_xlim([-0.5, 2.5]); ax.set_ylim([-2, 5])\n",
    "    fig.show()"
   ]
  }
 ],
 "metadata": {
  "kernelspec": {
   "display_name": "drift",
   "language": "python",
   "name": "python3"
  },
  "language_info": {
   "codemirror_mode": {
    "name": "ipython",
    "version": 3
   },
   "file_extension": ".py",
   "mimetype": "text/x-python",
   "name": "python",
   "nbconvert_exporter": "python",
   "pygments_lexer": "ipython3",
   "version": "3.12.0"
  },
  "orig_nbformat": 4,
  "vscode": {
   "interpreter": {
    "hash": "2f2c2030d2c2d87f3843e39674442619aef6da99be1b246f3be91ffea5723ba4"
   }
  }
 },
 "nbformat": 4,
 "nbformat_minor": 2
}
