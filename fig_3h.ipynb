{
 "cells": [
  {
   "cell_type": "code",
   "execution_count": null,
   "metadata": {},
   "outputs": [],
   "source": [
    "from modules import *\n",
    "from functions import *"
   ]
  },
  {
   "cell_type": "code",
   "execution_count": null,
   "metadata": {},
   "outputs": [],
   "source": [
    "N = int(500)                                                        # Number of neurons\n",
    "a = 10                                                              # Parameters for propensity function\n",
    "theta_stim = 90                                                     # Angle to stimulate at \n",
    "n_test_angles = 100                                                 # Number of angles to use to test for preferred orientation\n",
    "vars = np.random.lognormal(2, 0.6, N)                               # Width of each neuron's tuning curve\n",
    "learning_rate = 0.01                                                # Learning rate\n",
    "\n",
    "n_days = 100                                                        # Number of days to run for\n",
    "n_norm_per_day = 1                                                  # How many times to normalise the weights per day    \n",
    "n_steps_per_norm = 30                                               # How many orientation stimuli per day\n",
    "n_steps = n_steps_per_norm * n_norm_per_day * n_days                # Number of steps to run for\n",
    "init_steps = 300                                                    # Number of trials to run to settle to a baseline\n",
    "\n",
    "def get_correlation(ratio, n_steps, n_repeats):\n",
    "\n",
    "    hebb_scaling = ratio \n",
    "    correlations = np.zeros((n_repeats, n_days))\n",
    "\n",
    "    for repeat in range(n_repeats):\n",
    "        W_init = initialise_W(N, vars)                                                                                          # Initialise weights \n",
    "        W_baseline = prerun(W_init, theta_stim, a, hebb_scaling, 1, learning_rate, n_steps_per_norm, init_steps)                # Settle to a baseline\n",
    "        POs = get_POs_over_trials(W_baseline, n_steps, a, hebb_scaling, 1, learning_rate, theta_stim, n_steps_per_norm, n_norm_per_day, n_test_angles, 'stripe_rearing')\n",
    "        correlations[repeat, :] = get_r_values(POs, theta_stim, n_days, N)\n",
    "    return np.mean(correlations, axis=0)\n",
    "\n",
    "n_repeats = 10\n",
    "nx = n_days\n",
    "ny = 20\n",
    "\n",
    "r_matrix = np.zeros((ny, nx))\n",
    "for i, ratio in enumerate(tqdm(np.linspace(0, 1, ny))):\n",
    "    r_matrix[i, :] = get_correlation(ratio, n_steps, n_repeats)"
   ]
  },
  {
   "cell_type": "markdown",
   "metadata": {},
   "source": [
    "## Fig. 3h"
   ]
  },
  {
   "cell_type": "code",
   "execution_count": null,
   "metadata": {},
   "outputs": [],
   "source": [
    "def fig_3h(r_matrix):\n",
    "\n",
    "    fig, ax = plt.subplots(1, 1, figsize=(4, 2), dpi=180)\n",
    "    n_ticks = 3\n",
    "    cbar_max = 0.5\n",
    "    im1 = ax.imshow(r_matrix,  cmap='RdBu_r', vmin=-cbar_max, vmax=cbar_max)\n",
    "    cbar = fig.colorbar(im1, ax=ax, fraction=0.026, pad=0.04)\n",
    "    cbar.ax.set_yticks(np.round(np.linspace(-cbar_max, cbar_max, 3), 1))\n",
    "    cbar.ax.tick_params(labelsize=9)\n",
    "    cbar.ax.set_ylabel(r'mean correlation', rotation=-90, va=\"bottom\", fontsize=9, labelpad=2)\n",
    "    ax.set_xlabel(r'days', labelpad=5)\n",
    "    ax.set_ylabel(r'ratio H to $\\xi$', labelpad=1)\n",
    "    ax.set_xticks(np.linspace(-0.5, nx, n_ticks)); ax.set_xticklabels((np.linspace(0, n_days, n_ticks)).astype(int))\n",
    "    ax.set_yticks(np.linspace(-0.5, ny-0.2, 2)); ax.set_yticklabels((np.linspace(0, 1, 2).astype(int)))\n",
    "    ax.invert_yaxis()\n",
    "    ax.set_facecolor('k')\n",
    "\n",
    "    ax.set_ylim([-0.5, ny-0.2])\n",
    "    ax.set_xlim([-0.5, nx+0.3])\n",
    "\n",
    "    ax.axhline(0.3*ny, color='k', linestyle='--', linewidth=1)\n",
    "    ax.axvline(28, color='k', linestyle='--', linewidth=1)\n",
    "    ax.scatter(28, 0.3*ny, ec='k', fc='w', s=30, zorder=3)\n",
    "    ax.set_aspect(1.0/ax.get_data_ratio()*1)\n",
    "    fig.show()"
   ]
  }
 ],
 "metadata": {
  "kernelspec": {
   "display_name": "drift",
   "language": "python",
   "name": "python3"
  },
  "language_info": {
   "codemirror_mode": {
    "name": "ipython",
    "version": 3
   },
   "file_extension": ".py",
   "mimetype": "text/x-python",
   "name": "python",
   "nbconvert_exporter": "python",
   "pygments_lexer": "ipython3",
   "version": "3.12.0"
  },
  "orig_nbformat": 4
 },
 "nbformat": 4,
 "nbformat_minor": 2
}
