{
 "cells": [
  {
   "cell_type": "code",
   "execution_count": null,
   "metadata": {},
   "outputs": [],
   "source": [
    "from modules import *\n",
    "from functions import *"
   ]
  },
  {
   "cell_type": "code",
   "execution_count": null,
   "metadata": {},
   "outputs": [],
   "source": [
    "N = int(500)                                                        # Number of neurons\n",
    "a = 10                                                              # Parameters for propensity function\n",
    "theta_stim = 90                                                     # Angle to stimulate at \n",
    "n_test_angles = 100                                                 # Number of angles to use to test for preferred orientation\n",
    "vars = np.random.lognormal(2, 0.6, N)                               # Width of each neuron's tuning curve\n",
    "learning_rate = 1e-2                                                # Learning rate\n",
    "\n",
    "n_days = 28                                                         # Number of days to run for\n",
    "n_norm_per_day = 1                                                  # How many times to normalise the weights per day\n",
    "n_steps_per_norm = 30                                               # How often to normalise the weights\n",
    "n_steps = n_steps_per_norm * n_norm_per_day * n_days                # Number of steps to run for\n",
    "init_steps = 300                                                    # Number of trials to run to settle to a baseline\n",
    "\n",
    "hebb_scaling = 0.3                                                  # Scaling of Hebbian component\n",
    "rand_scaling = 1                                                    # Scaling of random component \n",
    "\n",
    "# Initialise\n",
    "\n",
    "W_init = initialise_W(N, vars)                                                                                                      # Initialise weights \n",
    "W_baseline = prerun(W_init, theta_stim, a, hebb_scaling, rand_scaling, learning_rate, n_steps_per_norm, init_steps)                 # Settle to a baseline\n",
    "\n",
    "POs = []; ratios = []\n",
    "W = np.zeros((N, N, n_steps+1)); W[:, :, 0] = W_baseline; W_per_day = np.zeros((N, N, n_days))\n",
    "\n",
    "# Run trials\n",
    "for t in tqdm(range(n_steps)):\n",
    "    W_old = W[:, :, t]\n",
    "    H = single_hebbian_component(N, W_old, theta_stim, type='baseline')                          # Hebbian component - outer product of pre- and post-synaptic activity\n",
    "    eta = np.random.randn(N, N)                                                                  # Random component - sample from normal distribution\n",
    "    prop_function = propensity(W_old, a)                                                         # Propensity function - tanh(w)\n",
    "    hebb =  hebb_scaling * H                                                                     # Scaled Hebbian component \n",
    "    rand =  rand_scaling * eta                                                                   # Scaled random component\n",
    "    W_new = W_old + learning_rate * prop_function * (hebb + rand)                                # Update weights\n",
    "\n",
    "    if t % n_steps_per_norm == 0:                                                                # Perform normalisation after every N_theta steps \n",
    "        normalisation(W_new)\n",
    "        if t % (n_steps_per_norm * n_norm_per_day) == 0:                                         # Save weights and preferred orientations every day \n",
    "            W_per_day[:, :, t // (n_steps_per_norm * n_norm_per_day)] = W_new                    \n",
    "\n",
    "    W[:, :, t+1] = W_new"
   ]
  },
  {
   "cell_type": "markdown",
   "metadata": {},
   "source": [
    "## Supp. Fig. 3a"
   ]
  },
  {
   "cell_type": "code",
   "execution_count": null,
   "metadata": {},
   "outputs": [],
   "source": [
    "def supp_fig_3a(W_baseline):\n",
    "    fig, ax = plt.subplots(figsize=(3, 3), dpi=180)\n",
    "    im = ax.imshow(W_baseline, vmin=0, vmax=0.04)\n",
    "    cbar = plt.colorbar(im, ax=ax, fraction=0.045, pad=0.04)\n",
    "    cbar.ax.set_yticks([0, 0.02, 0.04])\n",
    "    ax.set_ylim(ax.get_ylim()[::-1])\n",
    "    ax.set_yticks([0, 500])\n",
    "    ax.set_xticks([0, 500])\n",
    "    ax.set_xlabel('post', labelpad=0.5, fontstyle='italic', c='gray')\n",
    "    ax.set_ylabel('pre', labelpad=0.5, fontstyle='italic', c='gray')\n",
    "    fig.show()\n"
   ]
  },
  {
   "cell_type": "markdown",
   "metadata": {},
   "source": [
    "## Supp. Fig. 3c"
   ]
  },
  {
   "cell_type": "code",
   "execution_count": null,
   "metadata": {},
   "outputs": [],
   "source": [
    "def supp_fig_3c(W):\n",
    "    fig, ax = plt.subplots(figsize=(2.5, 2.5), dpi=180)\n",
    "    ax2 = ax.twinx()\n",
    "    x = np.linspace(0, 1, 100)\n",
    "    ax.plot(x, propensity(x, 10), c='firebrick')\n",
    "    ax2.hist(W[:, :, -1].flatten(), bins=103, density=False, color='gray', alpha=0.5)\n",
    "    ax2.set_yscale('log')\n",
    "    ax.set_xlim([0, 0.4]); ax.set_xticks([0, 0.2, 0.4])\n",
    "    ax.set_ylim([0, 1.01]); ax.set_yticks([0, 0.5, 1])\n",
    "    ax.set_xlabel(r\"Weight, $w$\")\n",
    "    ax.set_ylabel(r\"$\\rho(w)$\", rotation=0, labelpad=20)\n",
    "    ax2.set_ylabel(r\"Count\", rotation=270, labelpad=20, color='darkgray')\n",
    "    ax2.spines['right'].set_color('darkgray'); ax2.tick_params(axis='y', colors='darkgray')\n",
    "    sns.despine(right=False)\n",
    "    fig.show()\n"
   ]
  },
  {
   "cell_type": "markdown",
   "metadata": {},
   "source": [
    "## Supp. Fig. 3b"
   ]
  },
  {
   "cell_type": "code",
   "execution_count": null,
   "metadata": {},
   "outputs": [],
   "source": [
    "def supp_fig_3b():\n",
    "    N=100000\n",
    "    vars = np.random.lognormal(2, 0.6, N)\n",
    "    fig, ax = plt.subplots(figsize=(2.3, 2.3), dpi=180)\n",
    "    ax.hist(vars, bins=100, density=True, histtype='step', lw=1, color='k')\n",
    "    ax.hist(vars, bins=100, density=True, histtype='stepfilled', color='firebrick')\n",
    "    ax.set_yticks([0, 0.1]); ax.set_xlim(-4, 100)\n",
    "    ax.set_xlabel(r'Tuning curve width $ \\; [\\degree]$')\n",
    "    ax.set_ylabel('Frequency')\n",
    "    fig.show()"
   ]
  },
  {
   "cell_type": "markdown",
   "metadata": {},
   "source": [
    "## Fig. 3b"
   ]
  },
  {
   "cell_type": "code",
   "execution_count": null,
   "metadata": {},
   "outputs": [],
   "source": [
    "def fig_3b():\n",
    "    x = np.linspace(0, 0.2)\n",
    "    y = propensity(x, a=20)\n",
    "    fig, ax = plt.subplots(1, 1, figsize=(1.2, 1.2), dpi=140)\n",
    "    ax.plot(x, y, c='k', lw=1.5)\n",
    "    ax.set_xlabel(r'w', labelpad=5)\n",
    "    ax.set_ylabel(r'$\\rho(w)$', labelpad=1)\n",
    "    ax.set_ylim(0, 1.01); ax.set_xlim(0, 0.2); ax.set_xticks([]); ax.set_yticks([0, 1])\n",
    "    fig.show()"
   ]
  }
 ],
 "metadata": {
  "kernelspec": {
   "display_name": "drift",
   "language": "python",
   "name": "python3"
  },
  "language_info": {
   "codemirror_mode": {
    "name": "ipython",
    "version": 3
   },
   "file_extension": ".py",
   "mimetype": "text/x-python",
   "name": "python",
   "nbconvert_exporter": "python",
   "pygments_lexer": "ipython3",
   "version": "3.12.0"
  },
  "orig_nbformat": 4
 },
 "nbformat": 4,
 "nbformat_minor": 2
}
